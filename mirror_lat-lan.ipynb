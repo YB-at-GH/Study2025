{
 "cells": [
  {
   "cell_type": "code",
   "execution_count": 1,
   "metadata": {},
   "outputs": [
    {
     "name": "stdout",
     "output_type": "stream",
     "text": [
      "Polygon = Polygon([\n",
      "    (12.367753086504578, 45.42439876839208),\n",
      "    (12.367934955397544, 45.43065300973533),\n",
      "    (12.361933281929645, 45.437034174341065),\n",
      "    (12.364428398061813, 45.43846482392076),\n",
      "    (12.363335951737222, 45.44229740469973),\n",
      "    (12.351925956791497, 45.439997887472806),\n",
      "    (12.328013520505165, 45.45064301329435),\n",
      "    (12.315146930459987, 45.44842899261754),\n",
      "    (12.29932680063853, 45.43387605442983),\n",
      "    (12.315331263535567, 45.43055775303852),\n",
      "    (12.334427497297073, 45.42762217007549),\n",
      "    (12.347340188697714, 45.43183404583614),\n",
      "    (12.360434748991318, 45.42302703806107),\n",
      "    (12.367753086504578, 45.42439876839208),\n",
      "])\n"
     ]
    }
   ],
   "source": [
    "from shapely.geometry import Polygon\n",
    "\n",
    "# Original list of coordinates\n",
    "original_coords = ([\n",
    "    (45.42439876839208, 12.367753086504578),\n",
    "    (45.43065300973533, 12.367934955397544),\n",
    "    (45.437034174341065, 12.361933281929645),\n",
    "    (45.43846482392076, 12.364428398061813),\n",
    "    (45.44229740469973, 12.363335951737222),\n",
    "    (45.439997887472806, 12.351925956791497),\n",
    "    (45.45064301329435, 12.328013520505165),\n",
    "    (45.44842899261754, 12.315146930459987),\n",
    "    (45.43387605442983, 12.29932680063853),\n",
    "    (45.43055775303852, 12.315331263535567),\n",
    "    (45.42762217007549, 12.334427497297073),\n",
    "    (45.43183404583614, 12.3473401886977148),\n",
    "    (45.42302703806107, 12.360434748991318),\n",
    "    (45.42439876839208, 12.367753086504578),  \n",
    "])\n",
    "\n",
    "# Swap latitude and longitude for each coordinate pair\n",
    "mirrored_coords = [(lon, lat) for lat, lon in original_coords]\n",
    "\n",
    "# Create a new Polygon with the mirrored coordinates\n",
    "mirrored_polygon = Polygon(mirrored_coords)\n",
    "\n",
    "# Print the mirrored Polygon definition\n",
    "print(\"Polygon = Polygon([\")\n",
    "for coord in mirrored_coords:\n",
    "    print(f\"    {coord},\")\n",
    "print(\"])\")"
   ]
  }
 ],
 "metadata": {
  "kernelspec": {
   "display_name": "venv",
   "language": "python",
   "name": "python3"
  },
  "language_info": {
   "codemirror_mode": {
    "name": "ipython",
    "version": 3
   },
   "file_extension": ".py",
   "mimetype": "text/x-python",
   "name": "python",
   "nbconvert_exporter": "python",
   "pygments_lexer": "ipython3",
   "version": "3.13.2"
  }
 },
 "nbformat": 4,
 "nbformat_minor": 2
}
